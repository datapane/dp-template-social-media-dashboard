{
 "cells": [
  {
   "cell_type": "code",
   "execution_count": 1,
   "id": "cb48df56-3a64-4978-86e9-792995ab7bab",
   "metadata": {},
   "outputs": [],
   "source": [
    "import os\n",
    "import json\n",
    "import google.oauth2.credentials\n",
    "import google_auth_oauthlib.flow\n",
    "from googleapiclient.discovery import build\n",
    "from googleapiclient.errors import HttpError\n",
    "from google_auth_oauthlib.flow import InstalledAppFlow\n",
    "from datetime import datetime, timedelta"
   ]
  },
  {
   "cell_type": "markdown",
   "id": "f836802e-b2fa-4b9f-a21f-95cfc45f90a7",
   "metadata": {},
   "source": [
    "# YouTube analytics configuration"
   ]
  },
  {
   "cell_type": "code",
   "execution_count": 2,
   "id": "304a3d74-3c90-477e-90a2-8f5cfef5839a",
   "metadata": {},
   "outputs": [],
   "source": [
    "SCOPES = [\"https://www.googleapis.com/auth/yt-analytics.readonly\"]\n",
    "API_SERVICE_NAME = \"youtubeAnalytics\"\n",
    "API_VERSION = \"v2\""
   ]
  },
  {
   "cell_type": "markdown",
   "id": "edc5f5e0-59ad-4dd5-b0e1-28ed73dd786d",
   "metadata": {},
   "source": [
    "Before running this sample locally for the first time, you need to [set up authorization credentials](https://developers.google.com/youtube/reporting/v1/code_samples/python#set-up-authorization-credentials) for your project.\n",
    "\n",
    "Your `CLIENT_SECRETS_FILE` variable specifies the name of a file that contains the OAuth 2.0 information for this application, including its client_id and client_secret."
   ]
  },
  {
   "cell_type": "code",
   "execution_count": 3,
   "id": "f3233096-4970-4aab-b32a-cee7d22f4037",
   "metadata": {},
   "outputs": [],
   "source": [
    "CLIENT_SECRETS_FILE = \"client_secret.json\""
   ]
  },
  {
   "cell_type": "markdown",
   "id": "64d2426c-3eab-4c7b-b486-02c06c567f87",
   "metadata": {},
   "source": [
    "Disable OAuthlib's HTTPs verification when running locally. *DO NOT* leave this option enabled when running in production."
   ]
  },
  {
   "cell_type": "code",
   "execution_count": 4,
   "id": "ae23e8ba-bec8-4855-b3f2-23eeff1dd19c",
   "metadata": {},
   "outputs": [],
   "source": [
    "os.environ[\"OAUTHLIB_INSECURE_TRANSPORT\"] = \"1\""
   ]
  },
  {
   "cell_type": "markdown",
   "id": "02edce1d-a31d-4efb-a51e-d102554d4343",
   "metadata": {},
   "source": [
    "Authorize the request and store authorization credentials."
   ]
  },
  {
   "cell_type": "code",
   "execution_count": null,
   "id": "baa60eeb-10c2-4f48-89bc-ca0784e020c7",
   "metadata": {},
   "outputs": [],
   "source": [
    "flow = InstalledAppFlow.from_client_secrets_file(CLIENT_SECRETS_FILE, SCOPES)\n",
    "credentials = flow.run_console()\n",
    "youtubeAnalytics = build(API_SERVICE_NAME, API_VERSION, credentials=credentials)"
   ]
  },
  {
   "cell_type": "markdown",
   "id": "1f3bf076-374b-492b-b233-51868a4da2db",
   "metadata": {},
   "source": [
    "# Request channel data"
   ]
  },
  {
   "cell_type": "markdown",
   "id": "d2d145fe-5313-49f7-add0-29617b332d6a",
   "metadata": {},
   "source": [
    "We want data from the period starting from the beginning of the current year, up until today."
   ]
  },
  {
   "cell_type": "code",
   "execution_count": 6,
   "id": "5fe3d03d-60e9-44e3-936d-f96f53a3f4ba",
   "metadata": {},
   "outputs": [],
   "source": [
    "today = datetime.now().today()\n",
    "start_date = today.strftime(\"%Y-01-01\")\n",
    "end_date = today.strftime(\"%Y-%m-%d\")"
   ]
  },
  {
   "cell_type": "markdown",
   "id": "503d1383-2354-4307-87c6-58f659f68add",
   "metadata": {},
   "source": [
    "Make the request for the following metrics: estimatedMinutesWatched, views, likes, subscribersGained."
   ]
  },
  {
   "cell_type": "code",
   "execution_count": 7,
   "id": "2f92e2fc-c68a-49ac-aa70-4839187be5bc",
   "metadata": {},
   "outputs": [],
   "source": [
    "response = (\n",
    "    youtubeAnalytics.reports()\n",
    "    .query(\n",
    "        ids=\"channel==MINE\",\n",
    "        startDate=start_date,\n",
    "        endDate=end_date,\n",
    "        metrics=\"estimatedMinutesWatched,views,likes,subscribersGained\",\n",
    "        dimensions=\"day\",\n",
    "        sort=\"day\",\n",
    "    )\n",
    "    .execute()\n",
    ")"
   ]
  },
  {
   "cell_type": "markdown",
   "id": "eb2ad942-f63d-4d6c-950a-fc9ee4bfdf62",
   "metadata": {},
   "source": [
    "Display column headers in retrieved data"
   ]
  },
  {
   "cell_type": "code",
   "execution_count": 8,
   "id": "7540b3c2-6a88-47dd-b277-ef380dba93b8",
   "metadata": {},
   "outputs": [
    {
     "data": {
      "text/plain": [
       "[{'name': 'day', 'columnType': 'DIMENSION', 'dataType': 'STRING'},\n",
       " {'name': 'estimatedMinutesWatched',\n",
       "  'columnType': 'METRIC',\n",
       "  'dataType': 'INTEGER'},\n",
       " {'name': 'views', 'columnType': 'METRIC', 'dataType': 'INTEGER'},\n",
       " {'name': 'likes', 'columnType': 'METRIC', 'dataType': 'INTEGER'},\n",
       " {'name': 'subscribersGained', 'columnType': 'METRIC', 'dataType': 'INTEGER'}]"
      ]
     },
     "execution_count": 8,
     "metadata": {},
     "output_type": "execute_result"
    }
   ],
   "source": [
    "response[\"columnHeaders\"]"
   ]
  },
  {
   "cell_type": "markdown",
   "id": "db4ecd6b-103b-4a8a-a07e-f7d8b7db1a02",
   "metadata": {},
   "source": [
    "Peek at the last 5 rows"
   ]
  },
  {
   "cell_type": "code",
   "execution_count": 9,
   "id": "f5698d9f-ea22-407a-aa89-e5a2acb97b4d",
   "metadata": {},
   "outputs": [
    {
     "data": {
      "text/plain": [
       "[['2022-08-11', 36, 18, 0, 0],\n",
       " ['2022-08-12', 33, 18, 0, 0],\n",
       " ['2022-08-13', 13, 8, 0, 0],\n",
       " ['2022-08-14', 28, 14, 0, 0],\n",
       " ['2022-08-15', 21, 18, 0, 0]]"
      ]
     },
     "execution_count": 9,
     "metadata": {},
     "output_type": "execute_result"
    }
   ],
   "source": [
    "response[\"rows\"][-5:]"
   ]
  },
  {
   "cell_type": "markdown",
   "id": "82b8a847-c985-4d5c-b8b1-d552efe3a675",
   "metadata": {},
   "source": [
    "Convert `estimatedMinutesWatched` from minutes to hours"
   ]
  },
  {
   "cell_type": "code",
   "execution_count": 10,
   "id": "91a526a2-aa30-4ff6-a9d9-83d8349f127a",
   "metadata": {},
   "outputs": [],
   "source": [
    "for row in response[\"rows\"]:\n",
    "    row[1] = round(row[1] / 60, 2) "
   ]
  },
  {
   "cell_type": "markdown",
   "id": "ea4b0dfd-8fec-481c-8dbd-ee54fbd4ca9e",
   "metadata": {},
   "source": [
    "# Export data for reporting"
   ]
  },
  {
   "cell_type": "code",
   "execution_count": 11,
   "id": "94ed6a95-a01b-46eb-88cc-0cdf57e329f7",
   "metadata": {},
   "outputs": [],
   "source": [
    "youtube_analytics_data = {\n",
    "    \"rows\": response[\"rows\"],\n",
    "    \"columns\": [\"Date\", \"Watch time (hours)\", \"Views\", \"Likes\", \"Subscribers\"],\n",
    "}\n",
    "\n",
    "with open(\"youtube_analytics_data.json\", \"w\") as f:\n",
    "    json.dump(youtube_analytics_data, f)"
   ]
  }
 ],
 "metadata": {
  "kernelspec": {
   "display_name": "Python 3 (ipykernel)",
   "language": "python",
   "name": "python3"
  },
  "language_info": {
   "codemirror_mode": {
    "name": "ipython",
    "version": 3
   },
   "file_extension": ".py",
   "mimetype": "text/x-python",
   "name": "python",
   "nbconvert_exporter": "python",
   "pygments_lexer": "ipython3",
   "version": "3.10.5"
  }
 },
 "nbformat": 4,
 "nbformat_minor": 5
}
