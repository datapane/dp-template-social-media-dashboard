{
 "cells": [
  {
   "cell_type": "markdown",
   "metadata": {},
   "source": [
    "# Social media analytics dashboard"
   ]
  },
  {
   "cell_type": "code",
   "execution_count": 1,
   "metadata": {},
   "outputs": [],
   "source": [
    "import altair as alt\n",
    "import datapane as dp\n",
    "import json\n",
    "import numpy as np\n",
    "import pandas as pd\n",
    "\n",
    "from datetime import datetime, timedelta"
   ]
  },
  {
   "cell_type": "markdown",
   "metadata": {},
   "source": [
    "## Wrangling and visualisation functions"
   ]
  },
  {
   "cell_type": "code",
   "execution_count": 2,
   "metadata": {},
   "outputs": [],
   "source": [
    "def youtube_analytics_to_df(yt_analytics_rows, yt_analytics_columns, year=None):\n",
    "    df_yt_analytics = pd.DataFrame(yt_analytics_rows, columns=yt_analytics_columns)\n",
    "    df_yt_analytics = df_yt_analytics.set_index(\"Date\")\n",
    "    df_yt_analytics.index = pd.DatetimeIndex(df_yt_analytics.index)\n",
    "\n",
    "    # If not after a specific year, use year from last sample date\n",
    "    year = None\n",
    "    last_sample_date = datetime.strptime(yt_analytics_rows[-1][0], \"%Y-%m-%d\")\n",
    "    if not year:\n",
    "        year = last_sample_date.year\n",
    "\n",
    "    # Subsample to samples from the same year\n",
    "    df_yt_analytics = df_yt_analytics[df_yt_analytics.index.year == year]\n",
    "\n",
    "    # Fill our DataFrame so there's a sample for every day of the year\n",
    "    idx = pd.date_range(f\"01-01-{year}\", f\"12-31-{year}\")\n",
    "    df_yt_analytics = df_yt_analytics.reindex(idx, fill_value=0)\n",
    "    df_yt_analytics[\"Date\"] = df_yt_analytics.index\n",
    "\n",
    "    return df_yt_analytics, year, last_sample_date"
   ]
  },
  {
   "cell_type": "code",
   "execution_count": 3,
   "metadata": {},
   "outputs": [],
   "source": [
    "def get_last_28_days(df_yt_analytics, last_28_days_end=None):\n",
    "    last_28_days_start = last_28_days_end - timedelta(days=28)\n",
    "    last_28_days_mask = (df_yt_analytics[\"Date\"] > last_28_days_start) & (\n",
    "        df_yt_analytics[\"Date\"] <= last_28_days_end\n",
    "    )\n",
    "    df_yt_last_28_days = df_yt_analytics[last_28_days_mask]\n",
    "    \n",
    "    return df_yt_last_28_days"
   ]
  },
  {
   "cell_type": "markdown",
   "metadata": {},
   "source": [
    "## Load and wrangle data"
   ]
  },
  {
   "cell_type": "markdown",
   "metadata": {},
   "source": [
    "Plot a calendar heatmap for a particular metric, similar to the GitHub contribution plot."
   ]
  },
  {
   "cell_type": "code",
   "execution_count": 4,
   "metadata": {},
   "outputs": [],
   "source": [
    "def plot_calendar_heatmap(\n",
    "    metric, df_yt_analytics, labels=True, legend=True, height=120\n",
    "):\n",
    "    chart = (\n",
    "        alt.Chart(df_yt_analytics)\n",
    "        .mark_rect(stroke=\"white\", strokeWidth=2)\n",
    "        .encode(\n",
    "            alt.X(\n",
    "                \"week(Date):T\",\n",
    "                title=None,\n",
    "                axis=alt.Axis(\n",
    "                    grid=False,\n",
    "                    labels=labels,\n",
    "                    ticks=False,\n",
    "                    domain=False,\n",
    "                    tickCount=\"month\",\n",
    "                    format=\"%b\",\n",
    "                ),\n",
    "            ),\n",
    "            alt.Y(\n",
    "                \"day(Date):T\",\n",
    "                sort=\"descending\",\n",
    "                title=None,\n",
    "                axis=alt.Axis(\n",
    "                    labelBaseline=\"top\",\n",
    "                    grid=False,\n",
    "                    labels=labels,\n",
    "                    ticks=False,\n",
    "                    domain=False,\n",
    "                    tickCount={\"interval\": \"day\", \"step\": 3},\n",
    "                ),\n",
    "            ),\n",
    "            alt.Color(\n",
    "                f\"{metric}:Q\",\n",
    "                legend=alt.Legend() if legend else None,\n",
    "                title=None,\n",
    "                scale=alt.Scale(\n",
    "                    range=[\n",
    "                        \"RGBA(140,107,254,0.15)\",\n",
    "                        \"RGBA(140,107,254,1)\",\n",
    "                        \"RGBA(154,232,255,1)\",\n",
    "                    ]\n",
    "                ),\n",
    "            ),\n",
    "            tooltip=[\"Date\", f\"{metric}\"],\n",
    "        )\n",
    "        .configure_view(strokeWidth=0)\n",
    "        .configure_axis(labelFontSize=12)\n",
    "        .properties(width=\"container\", height=height)\n",
    "    )\n",
    "\n",
    "    return chart"
   ]
  },
  {
   "cell_type": "markdown",
   "metadata": {},
   "source": [
    "Generate an interesting calendar heatmap banner by mixing engagement data with noise ."
   ]
  },
  {
   "cell_type": "code",
   "execution_count": 5,
   "metadata": {},
   "outputs": [],
   "source": [
    "def plot_banner(df_yt_analytics):\n",
    "    df_banner = df_yt_analytics.copy()\n",
    "    df_banner[\"Views\"] = df_banner[\"Views\"] + np.random.randint(\n",
    "        1, 10, df_banner.shape[0]\n",
    "    )\n",
    "    \n",
    "    return plot_calendar_heatmap(\n",
    "        \"Views\", df_banner, labels=False, legend=False, height=100\n",
    "    )"
   ]
  },
  {
   "cell_type": "code",
   "execution_count": 6,
   "metadata": {},
   "outputs": [],
   "source": [
    "def plot_metric_time_series(metric, df_yt_analytics):\n",
    "    base = (\n",
    "        alt.Chart(df_yt_analytics)\n",
    "        .encode(x=alt.X(\"Date:T\", axis=alt.Axis(title=None)))\n",
    "        .properties(width=\"container\", height=200)\n",
    "    )\n",
    "\n",
    "    selection = alt.selection_single(\n",
    "        fields=[\"Date\"], nearest=True, on=\"mouseover\", empty=\"none\", clear=\"mouseout\"\n",
    "    )\n",
    "\n",
    "    area = base.mark_area(\n",
    "        line=True, interpolate=\"monotone\", fill=\"RGBA(140,107,254,1)\", opacity=0.15\n",
    "    ).encode(\n",
    "        y=alt.Y(f\"{metric}:Q\", axis=alt.Axis(orient=\"right\", title=None)),\n",
    "        color=alt.value(\"RGBA(140,107,254,1)\"),\n",
    "    )\n",
    "\n",
    "    points = area.mark_point(\n",
    "        fill=\"RGBA(140,107,254,1)\", stroke=\"white\", size=100, opacity=1\n",
    "    ).transform_filter(selection)\n",
    "\n",
    "    rule = (\n",
    "        base.mark_rule(stroke=\"RGBA(154,232,255,1)\", strokeWidth=4)\n",
    "        .encode(\n",
    "            opacity=alt.condition(selection, alt.value(0.5), alt.value(0)),\n",
    "            tooltip=[\n",
    "                alt.Tooltip(shorthand=\"Date:T\", title=\"Date\"),\n",
    "                alt.Tooltip(f\"{metric}:Q\", title=\"Value\"),\n",
    "            ],\n",
    "        )\n",
    "        .add_selection(selection)\n",
    "    )\n",
    "\n",
    "    chart = area + points + rule\n",
    "\n",
    "    return chart"
   ]
  },
  {
   "cell_type": "code",
   "execution_count": 7,
   "metadata": {
    "tags": []
   },
   "outputs": [],
   "source": [
    "def plot_metric_popular_day(metric, df_yt_analytics):\n",
    "    max_value = (\n",
    "        df_yt_analytics.groupby(df_yt_analytics[\"Date\"].dt.weekday).sum()[metric].max()\n",
    "    )\n",
    "\n",
    "    bars = (\n",
    "        alt.Chart(df_yt_analytics)\n",
    "        .mark_bar(stroke=\"RGBA(140,107,254,1)\", strokeWidth=2)\n",
    "        .encode(\n",
    "            x=alt.X(\"day(Date):O\", title=None),\n",
    "            y=alt.Y(f\"sum({metric}):Q\", title=None),\n",
    "            color=alt.condition(\n",
    "                f\"datum['sum_{metric}'] >= {max_value}\",\n",
    "                alt.value(\"RGBA(154,232,255,1)\"),\n",
    "                alt.value(\"RGBA(140,107,254,0.15)\"),\n",
    "            ),\n",
    "        )\n",
    "        .properties(width=\"container\", height=200)\n",
    "    )\n",
    "\n",
    "    text = bars.mark_text(\n",
    "        baseline=\"bottom\",\n",
    "        fill=\"gray\",\n",
    "        dy=-2,\n",
    "    ).encode(\n",
    "        text=f\"sum({metric}):Q\",\n",
    "    )\n",
    "    \n",
    "    chart = (bars + text).configure_scale(bandPaddingInner=0.2)\n",
    "\n",
    "    return chart"
   ]
  },
  {
   "cell_type": "markdown",
   "metadata": {},
   "source": [
    "## Load and wrangle data"
   ]
  },
  {
   "cell_type": "code",
   "execution_count": 8,
   "metadata": {},
   "outputs": [],
   "source": [
    "with open(\"./assets/youtube_analytics_data.json\", \"r\") as f:\n",
    "    yt_analytics_data = json.load(f)\n",
    "\n",
    "yt_analytics_rows = yt_analytics_data[\"rows\"]\n",
    "yt_analytics_columns = yt_analytics_data[\"columns\"]\n",
    "\n",
    "df_yt_analytics, year, last_sample_date = youtube_analytics_to_df(\n",
    "    yt_analytics_rows, yt_analytics_columns\n",
    ")\n",
    "\n",
    "df_yt_last_28_days = get_last_28_days(df_yt_analytics, last_sample_date)"
   ]
  },
  {
   "cell_type": "markdown",
   "metadata": {},
   "source": [
    "## Build metric pages"
   ]
  },
  {
   "cell_type": "code",
   "execution_count": 9,
   "metadata": {},
   "outputs": [],
   "source": [
    "yt_overview_pages = []\n",
    "for metric in df_yt_last_28_days.columns[:-1]:\n",
    "    metric_sum = round(df_yt_last_28_days[metric].sum(), 2)\n",
    "    yt_overview_pages.append(\n",
    "        dp.Group(\n",
    "            dp.Group(\n",
    "                dp.Plot(plot_metric_time_series(metric, df_yt_last_28_days)),\n",
    "                dp.Plot(plot_metric_popular_day(metric, df_yt_last_28_days)),\n",
    "                columns=2,\n",
    "            ),\n",
    "            dp.Plot(plot_calendar_heatmap(metric, df_yt_analytics)),\n",
    "            label=f\"{metric}: {metric_sum}\",\n",
    "        )\n",
    "    )\n",
    "\n",
    "# Placeholder pages for Twitter and Facebook channels.\n",
    "blank_overview_pages = []\n",
    "for metric in df_yt_last_28_days.columns[:-1]:\n",
    "    blank_overview_pages.append(\n",
    "        dp.Group(\n",
    "            \"Placeholder\",\n",
    "            label=f\"{metric}\",\n",
    "        )\n",
    "    )"
   ]
  },
  {
   "cell_type": "markdown",
   "metadata": {},
   "source": [
    "## Build social media channel pages"
   ]
  },
  {
   "cell_type": "code",
   "execution_count": 10,
   "metadata": {},
   "outputs": [],
   "source": [
    "social_media_pages = [\n",
    "    dp.Select(blocks=yt_overview_pages, type=dp.SelectType.TABS, label=\"YouTube\"),\n",
    "    dp.Select(blocks=blank_overview_pages, type=dp.SelectType.TABS, label=\"Twitter\"),\n",
    "    dp.Select(blocks=blank_overview_pages, type=dp.SelectType.TABS, label=\"Facebook\"),\n",
    "]"
   ]
  },
  {
   "cell_type": "markdown",
   "metadata": {},
   "source": [
    "## Build header and overview blocks"
   ]
  },
  {
   "cell_type": "code",
   "execution_count": 11,
   "metadata": {},
   "outputs": [],
   "source": [
    "banner_block = dp.Plot(plot_banner(df_yt_analytics))\n",
    "\n",
    "period_block = dp.BigNumber(\n",
    "    heading=f\"{last_sample_date.strftime('%d %b')} - {last_sample_date.strftime('%d %b')} {last_sample_date.strftime('%Y')}\",\n",
    "    value=\"Last 28 days\",\n",
    ")\n",
    " \n",
    "introduction_block = dp.Text(\n",
    "    \"\"\"This report highlights user engagement with our social media channels in 2022. \n",
    "            \n",
    "The report covers [YouTube](#), [Twitter](#), and [Facebook](#).\"\"\"\n",
    ")"
   ]
  },
  {
   "cell_type": "markdown",
   "metadata": {},
   "source": [
    "## Build report"
   ]
  },
  {
   "cell_type": "code",
   "execution_count": 12,
   "metadata": {},
   "outputs": [
    {
     "data": {
      "text/markdown": [
       "Report saved to ./template.html"
      ],
      "text/plain": [
       "<IPython.core.display.Markdown object>"
      ]
     },
     "metadata": {},
     "output_type": "display_data"
    }
   ],
   "source": [
    "report = dp.Report(\n",
    "    # header material\n",
    "    banner_block,\n",
    "    \"# Social media dashboard\",\n",
    "    dp.Group(\n",
    "        introduction_block,\n",
    "        period_block,\n",
    "        columns=2,\n",
    "    ),\n",
    "    \n",
    "    # analytics page per social media channel (e.g. YouTube, Twitter, etc.)\n",
    "    dp.Select(\n",
    "        blocks=social_media_pages,\n",
    "        type=dp.SelectType.TABS,\n",
    "    ),\n",
    ")\n",
    "\n",
    "report.save(path=\"template.html\", open=True)"
   ]
  }
 ],
 "metadata": {
  "kernelspec": {
   "display_name": "Python 3 (ipykernel)",
   "language": "python",
   "name": "python3"
  },
  "language_info": {
   "codemirror_mode": {
    "name": "ipython",
    "version": 3
   },
   "file_extension": ".py",
   "mimetype": "text/x-python",
   "name": "python",
   "nbconvert_exporter": "python",
   "pygments_lexer": "ipython3",
   "version": "3.10.5"
  },
  "vscode": {
   "interpreter": {
    "hash": "a0a5145e6c304e2a9afaf5b930a2955b950bd4b81fe94f7c42930f43f42762eb"
   }
  }
 },
 "nbformat": 4,
 "nbformat_minor": 4
}
